{
 "cells": [
  {
   "cell_type": "markdown",
   "metadata": {},
   "source": [
    "Rigetti Computing Proprietary & Confidential and Copyright Rigetti Computing 2021-2012."
   ]
  },
  {
   "cell_type": "code",
   "execution_count": null,
   "metadata": {},
   "outputs": [],
   "source": [
    "using Pkg\n",
    "Pkg.activate(\"./\")"
   ]
  },
  {
   "cell_type": "code",
   "execution_count": 48,
   "metadata": {},
   "outputs": [],
   "source": [
    "using QSimulator \n",
    "using Optim\n",
    "using LsqFit\n",
    "# using ProgressMeter\n",
    "# using JLD\n",
    "using NLsolve\n",
    "using Roots\n",
    "using QuadGK\n",
    "using PyPlot\n",
    "using LinearAlgebra\n",
    "using Interpolations\n",
    "using FFTW\n",
    "using SpecialFunctions\n",
    "import Statistics\n",
    "\n",
    "import QuantumInfo: liou, avgfidelity, kraus2liou # open-source package\n",
    "import Cliffords: Z\n",
    "using Optim\n",
    "using LinearAlgebra: diagm"
   ]
  },
  {
   "cell_type": "code",
   "execution_count": 49,
   "metadata": {},
   "outputs": [
    {
     "data": {
      "text/plain": [
       "transmonEJECratio (generic function with 1 method)"
      ]
     },
     "execution_count": 49,
     "metadata": {},
     "output_type": "execute_result"
    }
   ],
   "source": [
    "function transmonEJECratio(fmax,fmin,etamax)\n",
    "    \"\"\"Calculate the transmon EJ,EC and the ratio r =EJ1/EJ2\n",
    "    params:\n",
    "        fmax    qubit f01 at zero flux in GHz\n",
    "        fmin    qubit f01 at 1/f flux quantum in GHz\n",
    "        etamax  qubit anharmonicity (positive) at zero flux in GHz\n",
    "    return:\n",
    "        Ej      total SQUID junction energy in GHz\n",
    "        Ec      charging energy in GHz\n",
    "        r=EJ1/EJ2\n",
    "    \"\"\"\n",
    "    function f!(F, x)\n",
    "        F[1] = x[1]*(4.0/x[2] - (1.0 + x[2]/4.0 + 21.0*x[2]^2/128.0 + 19.0*x[2]^3/128.0))-fmax\n",
    "        F[2] = x[1]*(1.0 + 9.0*x[2]/16.0 + 81.0*x[2]^2/128.0 + 3645.0*x[2]^3/4096.0)-etamax\n",
    "    end\n",
    "\n",
    "    function j!(J, x)\n",
    "         J[1, 1] = 4.0/x[2]- (1.0 + x[2]/4.0 + 21.0*x[2]^2/128.0 + 19.0*x[2]^3/128.0)\n",
    "         J[1, 2] = x[1]*(-4.0/x[2]^2-(1/4.0 + 42.0*x[2]/128.0 + 3.0*19.0*x[2]^2/128.0))\n",
    "         J[2, 1] = 1.0 + 9.0*x[2]/16.0 + 81.0*x[2]^2/128.0 + 3645.0*x[2]^3/4096.0\n",
    "         J[2, 2] = x[1]*(9.0/16.0 + 2.0*81.0*x[2]/128.0 + 3*3645.0*x[2]^2/4096.0)\n",
    "    end\n",
    "    res = nlsolve(f!, j!, [ .1; 0.1])\n",
    "    Ec, xi_plus = res.zero\n",
    "    Ej = 2*Ec/xi_plus^2\n",
    "    function fun(x)\n",
    "        Ec*(4.0/x-(1.0+x/4.0+21.0*x^2/128.0+19.0*x^3/128.0))-fmin\n",
    "    end\n",
    "    sol2 = fzero(fun, 0, Inf)\n",
    "    xi_minus = (sol2/xi_plus)^4\n",
    "    function fun_ratio(y)\n",
    "        xi_minus-(1+y)^2/(y-1)^2\n",
    "    end\n",
    "    ratio = fzero(fun_ratio,1.,10) \n",
    "    return Ej,Ec,ratio\n",
    "end"
   ]
  },
  {
   "cell_type": "code",
   "execution_count": 50,
   "metadata": {},
   "outputs": [
    {
     "data": {
      "text/plain": [
       "transmonEJ1EJ2EC (generic function with 1 method)"
      ]
     },
     "execution_count": 50,
     "metadata": {},
     "output_type": "execute_result"
    }
   ],
   "source": [
    "function transmonEJ1EJ2EC(fmax,fmin,etamax)\n",
    "\n",
    "    function f!(F, x)\n",
    "        F[1] = x[1]*(4.0/x[2] - (1.0 + x[2]/4.0 + 21.0*x[2]^2/128.0 + 19.0*x[2]^3/128.0))-fmax\n",
    "        F[2] = x[1]*(1.0 + 9.0*x[2]/16.0 + 81.0*x[2]^2/128.0 + 3645.0*x[2]^3/4096.0)-etamax\n",
    "    end\n",
    "\n",
    "    function j!(J, x)\n",
    "         J[1, 1] = 4.0/x[2]- (1.0 + x[2]/4.0 + 21.0*x[2]^2/128.0 + 19.0*x[2]^3/128.0)\n",
    "         J[1, 2] = x[1]*(-4.0/x[2]^2-(1/4.0 + 42.0*x[2]/128.0 + 3.0*19.0*x[2]^2/128.0))\n",
    "         J[2, 1] = 1.0 + 9.0*x[2]/16.0 + 81.0*x[2]^2/128.0 + 3645.0*x[2]^3/4096.0\n",
    "         J[2, 2] = x[1]*(9.0/16.0 + 2.0*81.0*x[2]/128.0 + 3*3645.0*x[2]^2/4096.0)\n",
    "    end\n",
    "    res = nlsolve(f!, j!, [ .1; 0.1])\n",
    "    Ec, xi_plus = res.zero\n",
    "    Ej = 2*Ec/xi_plus^2\n",
    "    function fun(x)\n",
    "        Ec*(4.0/x-(1.0+x/4.0+21.0*x^2/128.0+19.0*x^3/128.0))-fmin\n",
    "    end\n",
    "    sol2 = fzero(fun, 0, Inf)\n",
    "    xi_minus = (sol2/xi_plus)^4\n",
    "    function fun_ratio(y)\n",
    "        xi_minus-(1+y)^2/(y-1)^2\n",
    "    end\n",
    "    ratio = fzero(fun_ratio,1.,10) \n",
    "    EJ1 = Ej/(1+ratio)\n",
    "    EJ2 = ratio*EJ1\n",
    "    return EJ1,EJ2,Ec\n",
    "end"
   ]
  },
  {
   "cell_type": "code",
   "execution_count": 51,
   "metadata": {},
   "outputs": [
    {
     "data": {
      "text/plain": [
       "average_frequency (generic function with 1 method)"
      ]
     },
     "execution_count": 51,
     "metadata": {},
     "output_type": "execute_result"
    }
   ],
   "source": [
    "function average_frequency(fmax, fmin, etamax, phipark, phim, omegam, f01f, etaf)\n",
    "    \"\"\"\n",
    "    Computes the frequency of asymmetric transmon as function of time\n",
    "    paramp: \n",
    "        EJ     total energy of the SQUID junction EJ = EJ1+EJ2\n",
    "        EC     charging energy \n",
    "        r      ratio junction energy r = EJ1/EJ2\n",
    "        phip   dc parking flux bias \n",
    "        phim   flux modulation amplitude \n",
    "        omegam flux modulation frequency\n",
    "    return:\n",
    "        func       average frequency of the qubit\n",
    "        df01       frequency shift during modulation\n",
    "        CZ02_1st   modulation frequency for CZ02 gate 1st harmonic\n",
    "        CZ20_1st   modulation frequency for CZ20 gate 1st harmonic\n",
    "        iSWAP_1st  modulation frequency for iSWAP gate 1st harmonic\n",
    "    \"\"\"\n",
    "    EJ, EC, r =  transmonEJECratio(fmax,fmin,etamax)\n",
    "    xi = sqrt(2*EC/EJ)\n",
    "    T = 2*pi/omegam\n",
    "    function fn(t)\n",
    "        flux = phipark + phim* sin.(omegam*t/2)\n",
    "        norm = sqrt(1+r^2+2*r*cos(2*pi*flux))/(r+1)\n",
    "        freq = sqrt(8*EJ*EC*norm)-EC*(1+xi /(4*norm)+21*xi^2 /(128*norm^2)+19*xi^3 /(128*norm.^3))\n",
    "        return freq\n",
    "    end\n",
    "    function anharm(t)\n",
    "        flux = phipark + phim* sin.(omegam*t/2)\n",
    "        norm = sqrt(1+r^2+2*r*cos(2*pi*flux))/(r+1)\n",
    "        anh = EC*(1+9*xi/(16*norm) + 81*xi^2 /(128*norm.^2) + 3645*xi^3 /(4096*norm^3))\n",
    "        return anh\n",
    "    end\n",
    "    func = quadgk(fn,0.0,T)[1]/T\n",
    "    etaave = quadgk(anharm,0.0,T)[1]/T\n",
    "    df01 = fmax - func\n",
    "    CZ02_1st = (func - etaave - f01f)/2.0\n",
    "    CZ20_1st = (func - f01f + etaf)/2.0\n",
    "    iSWAP_1st = (func - f01f)/2.0\n",
    "\n",
    "    return [func,CZ02_1st,CZ20_1st,iSWAP_1st,etaave]\n",
    "end"
   ]
  },
  {
   "cell_type": "code",
   "execution_count": 52,
   "metadata": {},
   "outputs": [
    {
     "data": {
      "text/plain": [
       "RabiModel (generic function with 1 method)"
      ]
     },
     "execution_count": 52,
     "metadata": {},
     "output_type": "execute_result"
    }
   ],
   "source": [
    "function RabiModel(x::Array{Float64,1}, p::Array{Float64,1})\n",
    "    \"\"\"\n",
    "    Fit function used for Rabi oscillation to extract effective coupling\n",
    "    params:\n",
    "        p[2] effective coupling g_eff in MHz\n",
    "        p[3] phase\n",
    "        p[1] amplitude of Rabi oscillation\n",
    "    \"\"\"\n",
    "    p[1]*cos.(2π * p[2] .* x ).^2 .+ p[3]\n",
    "end"
   ]
  },
  {
   "cell_type": "code",
   "execution_count": 53,
   "metadata": {},
   "outputs": [
    {
     "data": {
      "text/plain": [
       "infidelity (generic function with 1 method)"
      ]
     },
     "execution_count": 53,
     "metadata": {},
     "output_type": "execute_result"
    }
   ],
   "source": [
    "function infidelity(U_final,U_ideal,θ)\n",
    "    \"\"\"\n",
    "    Define process fidleity and optimize over single qubit rotations.\n",
    "    params:\n",
    "        U_final  noise process matrix from the simulation\n",
    "        U_ideal  the ideal process matrix for the target get\n",
    "        θ  the initial guess for the single qubit rotation angles\n",
    "    returns:\n",
    "        res infidelity\n",
    "    \"\"\"\n",
    "        function gate_optimize(θ)\n",
    "            single_qubit_rotation = exp(-1im * ((θ[1]/2.0 * σ1z) + (θ[2]/2.0 * σ2z)))\n",
    "            U_corrected = single_qubit_rotation*U_ideal\n",
    "            UU = conj(U_corrected)⊗U_corrected\n",
    "            1-real((tr(UU'*U_final)+4.0))/(16.0+4.0)\n",
    "        end \n",
    "        res = optimize(gate_optimize,θ).minimum\n",
    "        return res\n",
    "end"
   ]
  },
  {
   "cell_type": "code",
   "execution_count": 54,
   "metadata": {},
   "outputs": [
    {
     "data": {
      "text/plain": [
       "erfsquare_with_pads (generic function with 1 method)"
      ]
     },
     "execution_count": 54,
     "metadata": {},
     "output_type": "execute_result"
    }
   ],
   "source": [
    "function erfsquare_with_pads(tramp,tf,pad_length,t)\n",
    "    \"\"\"\n",
    "    Error function square pulse\n",
    "    \n",
    "    :param tramp:       rise and fall time of the pulse.\n",
    "    :param tf:          length of the flux pulse (without pads).\n",
    "    :paramp pad_length: length of pad to be added on each side of the pulse.\n",
    "    : return errfun:    error function square pulse.\n",
    "    \"\"\"\n",
    "    fwhm = 0.5*tramp\n",
    "    σ = fwhm/(2.0*sqrt(2.0 *log(2.0)))\n",
    "    errfun = 0.5*(erf((t -pad_length- tramp)/σ)-erf((t + tramp - pad_length - tf)/σ))\n",
    "    if t <= pad_length\n",
    "        return  0\n",
    "    elseif pad_length <= t <= tf+pad_length \n",
    "        return errfun\n",
    "    elseif tf+pad_length  < t <= tf + 2*pad_length\n",
    "    return 0\n",
    "    end\n",
    "end"
   ]
  },
  {
   "cell_type": "markdown",
   "metadata": {},
   "source": [
    "## Parameters and unitaries"
   ]
  },
  {
   "cell_type": "code",
   "execution_count": 55,
   "metadata": {},
   "outputs": [],
   "source": [
    "#define operators\n",
    "σ0 = [0.0 1.0 0.0;0.0 0.0 √2.0;0.0 0.0 0.0]    \n",
    "σz = σ0'*σ0\n",
    "σ1z = [-1.0 0.0;0.0 1.0]⊗ Matrix(I,2,2)\n",
    "σ2z =  Matrix(I,2,2)⊗[-1.0 0.0;0.0 1.0]\n",
    "UiSWAP = [1.0 0.0 0.0 0.0 ;0.0 0.0 1im 0.0; 0.0 1im 0.0 0.0; 0.0 0.0 0.0 1.0]\n",
    "UCZ = [1.0 0.0 0.0 0.0 ;0.0 1.0 0.0 0.0; 0.0 0.0 1.0 0.0; 0.0 0.0 0.0 -1.0]\n",
    "ln = [1 2 4 5 10 11 13 14 28 29 31 32 37 38 40 41] # indces of initial conditions\n",
    "Iden = [1.0 0.0 0.0; 0.0 1.0 0.0]⊗[1.0 0.0 0.0; 0.0 1.0 0.0];"
   ]
  },
  {
   "cell_type": "code",
   "execution_count": 56,
   "metadata": {},
   "outputs": [],
   "source": [
    "T1t = 13000.0 # in ns\n",
    "Tphit = 7000.0  # in ns\n",
    "T1f = 38000.0 # in ns\n",
    "Tphif = 15000.0  # in ns\n",
    "γ1t = 1/(2π * T1t)\n",
    "γϕt = 1/(2π * Tphit)\n",
    "γ1f = 1/(2π * T1f)\n",
    "γϕf = 1/(2π * Tphif)\n",
    "\n",
    "fmax, fmin, etamax = [5.272,4.383,0.197] # in GHz\n",
    "f01_f, eta_f = [3.887,0.187] # in GHz\n",
    "phipark = 0.0 # dc parking flux bias\n",
    "g01 =  0.010 # from measurement\n",
    "phim = 0.6 # in units of Phi0. AC sweet spot amplitude\n",
    "ωm = 2π*0.3  #in GHz\n",
    "ave_freq = average_frequency(fmax, fmin, etamax, phipark, phim, ωm, f01_f, eta_f);"
   ]
  },
  {
   "cell_type": "markdown",
   "metadata": {},
   "source": [
    "# Resonance conditions"
   ]
  },
  {
   "cell_type": "code",
   "execution_count": 57,
   "metadata": {},
   "outputs": [],
   "source": [
    "flux_mod = 0:0.01:1\n",
    "CZ20 = [average_frequency.(fmax, fmin, etamax, phipark, k, ωm, f01_f, eta_f)[2] for k in flux_mod]\n",
    "CZ02 = [average_frequency.(fmax, fmin, etamax, phipark, k, ωm, f01_f, eta_f)[3] for k in flux_mod]\n",
    "iSWAP = [average_frequency.(fmax, fmin, etamax, phipark, k, ωm, f01_f, eta_f)[4] for k in flux_mod];"
   ]
  },
  {
   "cell_type": "code",
   "execution_count": 58,
   "metadata": {},
   "outputs": [
    {
     "data": {
      "image/png": "[encoded data removed]",
      "text/plain": [
       "Figure(PyObject <Figure size 640x480 with 1 Axes>)"
      ]
     },
     "metadata": {},
     "output_type": "display_data"
    },
    {
     "data": {
      "text/plain": [
       "PyObject Text(24.000000000000007, 0.5, 'flux modulation frequency (MHz)')"
      ]
     },
     "execution_count": 58,
     "metadata": {},
     "output_type": "execute_result"
    }
   ],
   "source": [
    "clrs = [\"#00B5AD\", \"#0D0D36\", \"#EF476F\", \"#FFC504\",\"#3D47D9\"] # \n",
    "plot(flux_mod,CZ02*1e3,label=\"CZ20\",color=clrs[1])\n",
    "plot(flux_mod,CZ20*1e3,label=\"CZ02\",color=clrs[3])\n",
    "plot(flux_mod,iSWAP*1e3,label=\"iSWAP\",color=clrs[4])\n",
    "legend()\n",
    "grid(alpha=0.15)\n",
    "xlabel(\"flux modulation amplitude (Φ0)\")\n",
    "ylabel(\"flux modulation frequency (MHz)\")\n"
   ]
  },
  {
   "cell_type": "markdown",
   "metadata": {},
   "source": [
    "## Find optimum modulation frequency  for CZs and iSWAP gates"
   ]
  },
  {
   "cell_type": "code",
   "execution_count": 59,
   "metadata": {},
   "outputs": [
    {
     "data": {
      "text/plain": [
       "1-element Array{Any,1}:\n",
       " 0.392217"
      ]
     },
     "execution_count": 59,
     "metadata": {},
     "output_type": "execute_result"
    }
   ],
   "source": [
    "tmax = 200.0 # in ns\n",
    "times = collect(0.0:1:tmax)\n",
    "\n",
    "ψ0CZ = ComplexF64[0.0; 1.0; 0.0]⊗ComplexF64[0.0; 1.0; 0.0] # initial condition for CZ\n",
    "ψ0iSWAP = ComplexF64[0.0; 1.0; 0.0]⊗ComplexF64[1.0; 0.0; 0.0] # initial condition for iSWAP\n",
    "\n",
    "EJ_small,EJ_large,Ec =  transmonEJ1EJ2EC(fmax,fmin,etamax) # get tunable transmon parameters using transmon model.\n",
    "q1 = DuffingTransmon(\"q1\", 3, DuffingSpec(f01_f, -eta_f) ) # define fixed-frequency transmon \n",
    "q0 = PerturbativeTransmon(\"q0\", 3, TransmonSpec(Ec, EJ_large, EJ_small)) # define tunable transmon \n",
    "\n",
    "\n",
    "#find optimal modulation frequency for activating the gates around the initial value from the simulation\n",
    "fm_opt_list_CZ = []\n",
    "fm_opt_list_iSWAP = []\n",
    "\n",
    "for l in 2:1:3\n",
    "    omg_list = []\n",
    "    rho_list = []\n",
    "\n",
    "    for k in 1:1:10\n",
    "        freq_mod = ave_freq[l] + 0.0005*(k-1)\n",
    "        ρ11 = []\n",
    "        cqs = CompositeQSystem([q0, q1]) #construct the composite system\n",
    "        add_hamiltonian!(cqs, parametric_drive(q0, t -> phim*sin(2π*freq_mod*t)), q0) # free Hamiltonian with variable frequency\n",
    "        add_hamiltonian!(cqs, g01*X([q0, q1]), [q0,q1]) # interaction Hamiltonian \n",
    "        add_hamiltonian!(cqs, q1) # qubit 1 free Hamiltonian \n",
    "        ψs = unitary_state(cqs, times, ψ0CZ);\n",
    "\n",
    "        ρ11 = [abs2(s[5]) for s in ψs]\n",
    "        push!(omg_list,freq_mod)\n",
    "        push!(rho_list,minimum(ρ11))\n",
    "    end\n",
    "    idx = argmin(rho_list)\n",
    "    fm_opt = round(omg_list[idx],digits=6)\n",
    "    append!(fm_opt_list_CZ,fm_opt)\n",
    "end\n",
    "\n",
    "\n",
    "omg_list = []\n",
    "rho_list = []\n",
    "\n",
    "for k in 1:1:10\n",
    "    freq_mod = ave_freq[4] + 0.0005*(k-1)\n",
    "    ρ11 = []\n",
    "    cqs = CompositeQSystem([q0, q1]) # construct the composite system\n",
    "    add_hamiltonian!(cqs, parametric_drive(q0, t -> phim*sin(2π*freq_mod*t)), q0)\n",
    "    add_hamiltonian!(cqs, g01*X([q0, q1]), [q0,q1])\n",
    "    add_hamiltonian!(cqs, q1)\n",
    "    ψs = unitary_state(cqs, times, ψ0iSWAP);\n",
    "\n",
    "    ρ10 = [abs2(s[4]) for s in ψs]\n",
    "    push!(omg_list,freq_mod)\n",
    "    push!(rho_list,minimum(ρ10))\n",
    "end\n",
    "idx = argmin(rho_list)\n",
    "fm_opt = round(omg_list[idx],digits=6)\n",
    "append!(fm_opt_list_iSWAP,fm_opt)\n"
   ]
  },
  {
   "cell_type": "code",
   "execution_count": 60,
   "metadata": {},
   "outputs": [
    {
     "name": "stdout",
     "output_type": "stream",
     "text": [
      "modulation frequency for CZ02 = 292.97 MHz\n",
      "modulation frequency for CZ20 = 485.72 MHz\n",
      "modulation frequency for iSWAP = 392.22 MHz\n"
     ]
    }
   ],
   "source": [
    "println(\"modulation frequency for CZ02 = \", round(fm_opt_list_CZ[1]*1000,digits=2), \" MHz\")\n",
    "println(\"modulation frequency for CZ20 = \", round(fm_opt_list_CZ[2]*1000,digits=2), \" MHz\")\n",
    "println(\"modulation frequency for iSWAP = \", round(fm_opt_list_iSWAP[1]*1000,digits=2), \" MHz\")"
   ]
  },
  {
   "cell_type": "markdown",
   "metadata": {},
   "source": [
    "## Effective coupling: CZ \n",
    "The modulation renormalizes the bare qubit-qubit coupling by approximately the Bessel function of the first kind g-> gJ0. This coupling determines the gate time, for CZ, t_gate = pi/g"
   ]
  },
  {
   "cell_type": "code",
   "execution_count": 61,
   "metadata": {},
   "outputs": [
    {
     "data": {
      "image/png": "[encoded data removed]",
      "text/plain": [
       "Figure(PyObject <Figure size 640x480 with 1 Axes>)"
      ]
     },
     "metadata": {},
     "output_type": "display_data"
    }
   ],
   "source": [
    "times = collect(0.0:1:tmax)\n",
    "gatetime_CZ_optimal = []\n",
    "\n",
    "for k in 1:1:2\n",
    "    ρ11 = []\n",
    "    ρ02 = []\n",
    "    ρ20 = []\n",
    "    cqs = CompositeQSystem([q0, q1])  # construct the composite system\n",
    "    add_hamiltonian!(cqs, q1)\n",
    "    add_hamiltonian!(cqs, parametric_drive(q0, t -> phim*sin(2π*fm_opt_list_CZ[k]*t)), q0) # parametric drive or introducing modulation of qubit frequency.\n",
    "    add_hamiltonian!(cqs, g01*X([q0, q1]), [q0,q1])\n",
    "\n",
    "    ψs = unitary_state(cqs, times, ψ0CZ);\n",
    "\n",
    "    ρ11 = [abs2(s[5]) for s in ψs]\n",
    "    ρ02 = [abs2(s[3]) for s in ψs]\n",
    "    ρ20 = [abs2(s[7]) for s in ψs]\n",
    "\n",
    "    p0 = [10.0,g01*0.4,0]\n",
    "    p_fit = curve_fit(RabiModel, times, ρ11, p0).param\n",
    "    gatetime_CZ = 1/(2*p_fit[2])\n",
    "\n",
    "    plot(times, ρ11,color=\"darkcyan\")\n",
    "    plot(times, RabiModel(times, p_fit),linestyle=\"-\",color =\"red\")\n",
    "    grid(color=\"gray\",alpha=0.2)\n",
    "    xlabel(\"Time (ns)\")\n",
    "    ylabel(\"probability of |11>\")\n",
    "    ylim(0,1)\n",
    "    append!(gatetime_CZ_optimal,gatetime_CZ)\n",
    "end\n"
   ]
  },
  {
   "cell_type": "markdown",
   "metadata": {},
   "source": [
    "## Effective coupling: iSWAP"
   ]
  },
  {
   "cell_type": "code",
   "execution_count": 62,
   "metadata": {},
   "outputs": [
    {
     "data": {
      "image/png": "[encoded data removed]",
      "text/plain": [
       "Figure(PyObject <Figure size 640x480 with 1 Axes>)"
      ]
     },
     "metadata": {},
     "output_type": "display_data"
    },
    {
     "data": {
      "text/plain": [
       "(0.0, 1.0)"
      ]
     },
     "execution_count": 62,
     "metadata": {},
     "output_type": "execute_result"
    }
   ],
   "source": [
    "ρ01 = []\n",
    "ρ10 = []\n",
    "cqs = CompositeQSystem([q0, q1])  # construct the composite system\n",
    "add_hamiltonian!(cqs, q1)\n",
    "add_hamiltonian!(cqs, parametric_drive(q0, t -> phim*sin(2π*fm_opt_list_iSWAP[1]*t)), q0)\n",
    "add_hamiltonian!(cqs, g01*X([q0, q1]), [q0,q1])\n",
    "\n",
    "ψs = unitary_state(cqs, times, ψ0iSWAP);\n",
    "\n",
    "ρ01 = [abs2(s[2]) for s in ψs]\n",
    "ρ10 = [abs2(s[4]) for s in ψs]\n",
    "\n",
    "p0 = [10.0,g01*0.2,0] # initial guess \n",
    "p_fit = curve_fit(RabiModel, times, ρ01, p0).param\n",
    "gatetime_iSWAP = 1/(4*p_fit[2])\n",
    "\n",
    "plot(times, ρ01,color=\"darkcyan\")\n",
    "plot(times, RabiModel(times, p_fit),linestyle=\"-\",color =\"red\")\n",
    "grid(color=\"gray\",alpha=0.2)\n",
    "xlabel(\"Time (ns)\")\n",
    "ylabel(\"probability of |01>\")\n",
    "ylim(0,1)"
   ]
  },
  {
   "cell_type": "markdown",
   "metadata": {},
   "source": [
    "## Flux pulse parameters and gate time"
   ]
  },
  {
   "cell_type": "code",
   "execution_count": 63,
   "metadata": {},
   "outputs": [
    {
     "data": {
      "text/plain": [
       "131.52501134742295"
      ]
     },
     "execution_count": 63,
     "metadata": {},
     "output_type": "execute_result"
    }
   ],
   "source": [
    "tramp = 8 # ramp time of the flux pulse\n",
    "pad_length = 8 # padding on each side of the flux pulse \n",
    "tf = gatetime_CZ_optimal .+ 2*tramp\n",
    "tf_with_pads = tf .+ 2*pad_length\n",
    "\n",
    "tf_iswap = gatetime_iSWAP .+ 2*tramp\n",
    "tf_iswap_with_pads = tf_iswap .+ 2*pad_length"
   ]
  },
  {
   "cell_type": "markdown",
   "metadata": {},
   "source": [
    "## Fidelity of CZ with T1 and Tϕ"
   ]
  },
  {
   "cell_type": "code",
   "execution_count": 64,
   "metadata": {},
   "outputs": [],
   "source": [
    "CZ_infidelity = []\n",
    "for lm in 1:1:2  \n",
    "    tff = tf[lm] \n",
    "    \n",
    "    times = collect(0.0:1:tf_with_pads[lm])\n",
    "\n",
    "    rho_final = []\n",
    "    for k in 1:1:length(ln)\n",
    "        IM = Matrix{ComplexF64}(I, 81,81)\n",
    "        ρin = reshape(IM[:,ln[k]],9,9)\n",
    "\n",
    "        cqs = CompositeQSystem([q0, q1]) # construct the composite system\n",
    "        add_hamiltonian!(cqs, q1)\n",
    "        add_hamiltonian!(cqs, parametric_drive(q0, t -> phim*erfsquare_with_pads(tramp,tff,pad_length,t).*sin(2π*fm_opt_list_CZ[lm]*t)), q0)\n",
    "        add_hamiltonian!(cqs, g01*X([q0, q1]), [q0,q1])\n",
    "\n",
    "        add_lindblad!(cqs, sqrt(γ1t)*σ0, [q0])\n",
    "        add_lindblad!(cqs, sqrt(γϕt)*σz, [q0])\n",
    "        add_lindblad!(cqs, sqrt(γ1f)*σ0, [q1])\n",
    "        add_lindblad!(cqs, sqrt(γϕf)*σz, [q1])\n",
    "        ρs = me_state(cqs, times, ρin);\n",
    "        ρf = Iden*reshape(ρs[end],9,9)*Iden' # project on to the computational subspace\n",
    "        append!(rho_final,   [reshape(ρf,16,1)])\n",
    "    end\n",
    "    UCZ = diagm(0 => [1.0,1.0,1.0,-1.0])\n",
    "    final_process_matrix  = hcat([rho_final[l] for l=1:length(ln)]...)     # noisey process matrix\n",
    "    push!(CZ_infidelity, infidelity(final_process_matrix,UCZ,zeros(2)))\n",
    "end"
   ]
  },
  {
   "cell_type": "code",
   "execution_count": 65,
   "metadata": {},
   "outputs": [
    {
     "name": "stdout",
     "output_type": "stream",
     "text": [
      "Process fidelity of CZ02 = 98.22%, gate time = 137.2 ns\n",
      "Process fidelity of CZ20 = 97.93%, gate time = 206.9 ns\n"
     ]
    }
   ],
   "source": [
    "println(\"Process fidelity of CZ02 = \", 100 .- round.(CZ_infidelity[1],digits=4)*100,\"%\",\", gate time = \", round(tf_with_pads[1],digits=1),\" ns\")\n",
    "println(\"Process fidelity of CZ20 = \", 100 .- round.(CZ_infidelity[2],digits=4)*100,\"%\",\", gate time = \", round(tf_with_pads[2],digits=1),\" ns\")"
   ]
  },
  {
   "cell_type": "markdown",
   "metadata": {},
   "source": [
    "## Fidelity of iSWAP with T1 and Tϕ"
   ]
  },
  {
   "cell_type": "code",
   "execution_count": 66,
   "metadata": {},
   "outputs": [
    {
     "data": {
      "text/plain": [
       "0.015312574296349135"
      ]
     },
     "execution_count": 66,
     "metadata": {},
     "output_type": "execute_result"
    }
   ],
   "source": [
    "iSWAP_infidelity = []\n",
    "\n",
    "times = collect(0.0:1:tf_iswap_with_pads)\n",
    "\n",
    "rho_final = []\n",
    "for k in 1:1:length(ln)\n",
    "    IM = Matrix{ComplexF64}(I, 81,81)\n",
    "    ρin = reshape(IM[:,ln[k]],9,9)\n",
    "\n",
    "    cqs = CompositeQSystem([q0, q1]) # construct the composite system\n",
    "    add_hamiltonian!(cqs, q1)\n",
    "    add_hamiltonian!(cqs, parametric_drive(q0, t -> phim*erfsquare_with_pads(tramp,tf_iswap[1],pad_length,t).*sin(2π*fm_opt_list_iSWAP[1]*t)), q0)\n",
    "    add_hamiltonian!(cqs, g01*X([q0, q1]), [q0,q1])\n",
    "\n",
    "    add_lindblad!(cqs, sqrt(γ1t)*σ0, [q0])\n",
    "    add_lindblad!(cqs, sqrt(γϕt)*σz, [q0])\n",
    "    add_lindblad!(cqs, sqrt(γ1f)*σ0, [q1])\n",
    "    add_lindblad!(cqs, sqrt(γϕf)*σz, [q1])\n",
    "    ρs = me_state(cqs, times, ρin);\n",
    "    ρf = Iden*reshape(ρs[end],9,9)*Iden' #project on to qubits subspace\n",
    "    append!(rho_final,   [reshape(ρf,16,1)])\n",
    "end\n",
    "final_process_matrix  = hcat([rho_final[l] for l=1:length(ln)]...)     # noisey process matrix\n",
    "iSWAP_infidelity= infidelity(final_process_matrix,UiSWAP,zeros(2))\n"
   ]
  },
  {
   "cell_type": "code",
   "execution_count": 67,
   "metadata": {},
   "outputs": [
    {
     "name": "stdout",
     "output_type": "stream",
     "text": [
      "Process fidelity of iSWAP = 98.47%, gate time = 131.5 ns\n"
     ]
    }
   ],
   "source": [
    "println(\"Process fidelity of iSWAP = \", 100 .- round.(iSWAP_infidelity[1],digits=4)*100,\"%\",\", gate time = \", round(tf_iswap_with_pads[1],digits=1),\" ns\")"
   ]
  },
  {
   "cell_type": "markdown",
   "metadata": {},
   "source": [
    "## Fidelity of CZ without T1 and Tϕ"
   ]
  },
  {
   "cell_type": "code",
   "execution_count": 68,
   "metadata": {},
   "outputs": [],
   "source": [
    "unitary_fidelity_CZ = []\n",
    "for lm in 1:1:2\n",
    "    cqs = CompositeQSystem([q0, q1]) # construct the composite system\n",
    "    add_hamiltonian!(cqs, parametric_drive(q0, t -> phim*erfsquare_with_pads(tramp,tf[lm],pad_length,t).*sin(2π*fm_opt_list_CZ[lm]*t)), q0)\n",
    "    add_hamiltonian!(cqs, g01*X([q0, q1]), [q0,q1])\n",
    "    add_hamiltonian!(cqs, q1)\n",
    "    U = unitary_propagator(cqs, float(tf_with_pads[lm]));\n",
    "    # project out into the qubit space\n",
    "    projector = [1,0]*[1, 0, 0]' + [0, 1]*[0, 1, 0]' \n",
    "    projector = projector ⊗ projector\n",
    "    U_proj = projector * U * projector'\n",
    "    import QuantumInfo: liou, avgfidelity, kraus2liou\n",
    "    import Cliffords: Z\n",
    "    using Optim\n",
    "    using LinearAlgebra: diagm\n",
    "    Zrot = θ -> exp(-1im * θ * π * Z)\n",
    "    CZ = diagm(0 => [1.0,1.0,1.0,-1.0])\n",
    "    res = optimize(zs -> 1 - avgfidelity(liou((Zrot(zs[1]) ⊗ Zrot(zs[2])) * U_proj), liou(CZ)), [0.0, 0.0]).minimum\n",
    "    append!(unitary_fidelity_CZ,round((1-res)*100,digits=2))\n",
    "end"
   ]
  },
  {
   "cell_type": "code",
   "execution_count": 69,
   "metadata": {},
   "outputs": [
    {
     "name": "stdout",
     "output_type": "stream",
     "text": [
      "Unitray process fidelity of CZ02 = 99.65%\n",
      "Unitray process fidelity of CZ20 = 99.71%\n"
     ]
    }
   ],
   "source": [
    " println(\"Unitray process fidelity of CZ02 = \", unitary_fidelity_CZ[1], \"%\")\n",
    " println(\"Unitray process fidelity of CZ20 = \", unitary_fidelity_CZ[2], \"%\")"
   ]
  },
  {
   "cell_type": "markdown",
   "metadata": {},
   "source": [
    "# Fidelity of iSWAP without T1 and Tϕ"
   ]
  },
  {
   "cell_type": "code",
   "execution_count": 70,
   "metadata": {},
   "outputs": [
    {
     "data": {
      "text/plain": [
       "1-element Array{Any,1}:\n",
       " 99.62"
      ]
     },
     "execution_count": 70,
     "metadata": {},
     "output_type": "execute_result"
    }
   ],
   "source": [
    "unitary_fidelity_iSWAP = []\n",
    "\n",
    "cqs = CompositeQSystem([q0, q1]) # construct the composite system\n",
    "add_hamiltonian!(cqs, parametric_drive(q0, t -> phim*erfsquare_with_pads(tramp,tf_iswap[1],pad_length,t).*sin(2π*fm_opt_list_iSWAP[1]*t)), q0)\n",
    "add_hamiltonian!(cqs, g01*X([q0, q1]), [q0,q1])\n",
    "add_hamiltonian!(cqs, q1)\n",
    "U = unitary_propagator(cqs, float(tf_iswap_with_pads[1]));\n",
    "# project out into the qubit space\n",
    "projector = [1,0]*[1, 0, 0]' + [0, 1]*[0, 1, 0]' \n",
    "projector = projector ⊗ projector\n",
    "U_proj = projector * U * projector'\n",
    "import QuantumInfo: liou, avgfidelity, kraus2liou\n",
    "import Cliffords: Z\n",
    "using Optim\n",
    "using LinearAlgebra: diagm\n",
    "Zrot = θ -> exp(-1im * θ * π * Z)\n",
    "res = optimize(zs -> 1 - avgfidelity(liou((Zrot(zs[1]) ⊗ Zrot(zs[2])) * U_proj), liou(UiSWAP)), [0.0, 0.0]).minimum\n",
    "append!(unitary_fidelity_iSWAP,round((1-res)*100,digits=2))"
   ]
  },
  {
   "cell_type": "code",
   "execution_count": 71,
   "metadata": {},
   "outputs": [
    {
     "name": "stdout",
     "output_type": "stream",
     "text": [
      "Unitray process fidelity of iSWAP = 99.62%\n"
     ]
    }
   ],
   "source": [
    " println(\"Unitray process fidelity of iSWAP = \", unitary_fidelity_iSWAP[1], \"%\")"
   ]
  },
  {
   "cell_type": "code",
   "execution_count": 2,
   "metadata": {},
   "outputs": [
    {
     "ename": "UndefVarError",
     "evalue": "\u001b[91mUndefVarError: Ec not defined\u001b[39m",
     "output_type": "error",
     "traceback": [
      "\u001b[91mUndefVarError: Ec not defined\u001b[39m",
      "",
      "Stacktrace:",
      " [1] top-level scope at In[2]:1"
     ]
    }
   ],
   "source": [
    "Ec, EJ_large, EJ_small"
   ]
  },
  {
   "cell_type": "code",
   "execution_count": null,
   "metadata": {},
   "outputs": [],
   "source": []
  },
  {
   "cell_type": "code",
   "execution_count": null,
   "metadata": {},
   "outputs": [],
   "source": []
  },
  {
   "cell_type": "code",
   "execution_count": null,
   "metadata": {},
   "outputs": [],
   "source": []
  },
  {
   "cell_type": "code",
   "execution_count": null,
   "metadata": {},
   "outputs": [],
   "source": []
  },
  {
   "cell_type": "code",
   "execution_count": null,
   "metadata": {},
   "outputs": [],
   "source": []
  }
 ],
 "metadata": {
  "@webio": {
   "lastCommId": null,
   "lastKernelId": null
  },
  "kernelspec": {
   "display_name": "Julia 1.7.1",
   "language": "julia",
   "name": "julia-1.7"
  },
  "language_info": {
   "file_extension": ".jl",
   "mimetype": "application/julia",
   "name": "julia",
   "version": "1.7.1"
  }
 },
 "nbformat": 4,
 "nbformat_minor": 2
}
